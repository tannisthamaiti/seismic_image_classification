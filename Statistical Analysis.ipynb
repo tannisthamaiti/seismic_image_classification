{
 "cells": [
  {
   "cell_type": "code",
   "execution_count": 63,
   "metadata": {},
   "outputs": [],
   "source": [
    "from os.path import join as pjoin\n",
    "import json\n",
    "import os\n",
    "import imageio\n",
    "import numpy as np\n",
    "from sklearn.preprocessing import MinMaxScaler\n",
    "import matplotlib.pyplot as plt\n",
    "import seaborn as sns\n",
    "from scipy.stats import uniform\n",
    "import sklearn\n",
    "from sklearn.feature_extraction import image\n",
    "from sklearn.datasets import load_sample_image\n",
    "import scipy.misc"
   ]
  },
  {
   "cell_type": "code",
   "execution_count": 65,
   "metadata": {},
   "outputs": [
    {
     "name": "stdout",
     "output_type": "stream",
     "text": [
      "0.4138856290572834\n",
      "0.0466302580644298\n",
      "0.4798520017264246\n",
      "t = -2.268352553417471\n",
      "p = 1.9766869663747362\n",
      "t = -2.268295843894758\n",
      "p = 0.023316488116434\n"
     ]
    }
   ],
   "source": [
    "#https://towardsdatascience.com/inferential-statistics-series-t-test-using-numpy-2718f8f9bf2f\n",
    "#For unbiased max likelihood estimate we have to divide the var by N-1, and therefore the parameter ddof = 1\n",
    "a = np.squeeze(seismic_canada)[1:20000]\n",
    "b= np.squeeze(seismic_nl)[1:20000]\n",
    "var_a = a.var(ddof=1)\n",
    "var_b = b.var(ddof=1)\n",
    "print(var_a)\n",
    "print(var_b)\n",
    "#std deviation\n",
    "s = np.sqrt((var_a + var_b)/2)\n",
    "print(s)\n",
    "\n",
    "## Calculate the t-statistics\n",
    "t = (a.mean() - b.mean())/(s*np.sqrt(2/20000))\n",
    "\n",
    "\n",
    "\n",
    "## Compare with the critical t-value\n",
    "#Degrees of freedom\n",
    "df = 2*20000 - 2\n",
    "\n",
    "#p-value after comparison with the t \n",
    "p = 1 - stats.t.cdf(t,df=df)\n",
    "\n",
    "\n",
    "print(\"t = \" + str(t))\n",
    "print(\"p = \" + str(2*p))\n",
    "### You can see that after comparing the t statistic with the critical t value (computed internally) we get a good p value of 0.0005 and thus we reject the null hypothesis and thus it proves that the mean of the two distributions are different and statistically significant.\n",
    "\n",
    "\n",
    "## Cross Checking with the internal scipy function\n",
    "t2, p2 = stats.ttest_ind(a,b)\n",
    "print(\"t = \" + str(t2))\n",
    "print(\"p = \" + str(p2))\n"
   ]
  },
  {
   "cell_type": "markdown",
   "metadata": {},
   "source": [
    "### Canada Data class 2"
   ]
  },
  {
   "cell_type": "code",
   "execution_count": 5,
   "metadata": {},
   "outputs": [
    {
     "name": "stdout",
     "output_type": "stream",
     "text": [
      "Tuple of arrays returned :  (array([    0,     0,     0, ..., 15216, 15216, 15216], dtype=int64), array([ 0,  0,  0, ..., 39, 39, 39], dtype=int64), array([ 0,  1,  2, ..., 37, 38, 39], dtype=int64))\n",
      "[ 0.70196078  1.          0.65490196 ... -0.4745098  -0.37254902\n",
      " -0.24705882]\n"
     ]
    }
   ],
   "source": [
    "labels = np.load('data_canada/train/labels.npy')\n",
    "result = np.where(labels==2)\n",
    "print('Tuple of arrays returned : ', result)\n",
    "seismic = np.load('data_canada/train/images.npy')\n",
    "seismic_canada = seismic[result]\n",
    "print(seismic_canada)"
   ]
  },
  {
   "cell_type": "markdown",
   "metadata": {},
   "source": [
    "### Netherlands Data class 2"
   ]
  },
  {
   "cell_type": "code",
   "execution_count": 46,
   "metadata": {},
   "outputs": [
    {
     "name": "stdout",
     "output_type": "stream",
     "text": [
      "Tuple of arrays returned :  (array([  0,   0,   0, ..., 400, 400, 400], dtype=int64), array([  0,   0,   0, ..., 700, 700, 700], dtype=int64), array([ 76,  77,  78, ..., 252, 253, 254], dtype=int64))\n",
      "[-0.34047574 -0.15254456  0.06938825 ... -0.08590122 -0.07811896\n",
      " -0.07811896]\n"
     ]
    }
   ],
   "source": [
    "labels = np.load('data_netherlands/train/train_labels.npy')\n",
    "result = np.where(labels==2)\n",
    "print('Tuple of arrays returned : ', result)\n",
    "seismic_netherlands = np.load('data_netherlands/train/train_seismic.npy')\n",
    "seismic_nl = seismic_netherlands[result]\n",
    "print(seismic_nl)\n"
   ]
  },
  {
   "cell_type": "code",
   "execution_count": 49,
   "metadata": {},
   "outputs": [
    {
     "name": "stdout",
     "output_type": "stream",
     "text": [
      "(78192, 40, 40)\n"
     ]
    }
   ],
   "source": [
    "#plt.imsave('output.jpg', seismic[:,1,:])\n",
    "one_image = load_sample_image(\"china.jpg\")\n",
    "#print(one_image.shape)\n",
    "#one_image = load_sample_image(\"output.jpg\")\n",
    "patches = image.extract_patches_2d(seismic[:,1,:], (40, 40))\n",
    "print(patches.shape)\n",
    "plt.imsave('output.jpg', patches[0])"
   ]
  },
  {
   "cell_type": "code",
   "execution_count": 14,
   "metadata": {},
   "outputs": [
    {
     "data": {
      "text/plain": [
       "[Text(0, 0.5, 'Frequency'), Text(0.5, 0, 'Netherlands Class 2')]"
      ]
     },
     "execution_count": 14,
     "metadata": {},
     "output_type": "execute_result"
    },
    {
     "data": {
      "image/png": "[encoded data removed]",
      "text/plain": [
       "<Figure size 432x288 with 1 Axes>"
      ]
     },
     "metadata": {
      "needs_background": "light"
     },
     "output_type": "display_data"
    }
   ],
   "source": [
    "ax = sns.distplot(seismic_nl,\n",
    "                  bins=100,\n",
    "                  kde=True,\n",
    "                  color='skyblue',\n",
    "                  hist_kws={\"linewidth\": 15,'alpha':1})\n",
    "ax.set(xlabel='Netherlands Class 2', ylabel='Frequency')"
   ]
  },
  {
   "cell_type": "code",
   "execution_count": 47,
   "metadata": {},
   "outputs": [
    {
     "data": {
      "text/plain": [
       "[Text(0, 0.5, 'Frequency'), Text(0.5, 0, 'Netherlands')]"
      ]
     },
     "execution_count": 47,
     "metadata": {},
     "output_type": "execute_result"
    },
    {
     "data": {
      "image/png": "[encoded data removed]",
      "text/plain": [
       "<Figure size 432x288 with 1 Axes>"
      ]
     },
     "metadata": {
      "needs_background": "light"
     },
     "output_type": "display_data"
    }
   ],
   "source": [
    "ax = sns.distplot(seismic_netherlands,\n",
    "                  bins=100,\n",
    "                  kde=True,\n",
    "                  color='skyblue',\n",
    "                  hist_kws={\"linewidth\": 15,'alpha':1})\n",
    "ax.set(xlabel='Netherlands', ylabel='Frequency')"
   ]
  },
  {
   "cell_type": "code",
   "execution_count": 12,
   "metadata": {},
   "outputs": [
    {
     "data": {
      "text/plain": [
       "[Text(0, 0.5, 'Frequency'), Text(0.5, 0, 'Canada Class2')]"
      ]
     },
     "execution_count": 12,
     "metadata": {},
     "output_type": "execute_result"
    },
    {
     "data": {
      "image/png": "[encoded data removed]",
      "text/plain": [
       "<Figure size 432x288 with 1 Axes>"
      ]
     },
     "metadata": {
      "needs_background": "light"
     },
     "output_type": "display_data"
    }
   ],
   "source": [
    "ax = sns.distplot(seismic_canada,\n",
    "                  bins=100,\n",
    "                  kde=True,\n",
    "                  color='skyblue',\n",
    "                  hist_kws={\"linewidth\": 15,'alpha':1})\n",
    "ax.set(xlabel='Canada Class2', ylabel='Frequency')"
   ]
  },
  {
   "cell_type": "code",
   "execution_count": 17,
   "metadata": {},
   "outputs": [
    {
     "name": "stdout",
     "output_type": "stream",
     "text": [
      "Tuple of arrays returned :  (array([  0,   0,   0, ..., 400, 400, 400], dtype=int64), array([  0,   0,   0, ..., 599, 600, 600], dtype=int64), array([194, 195, 196, ..., 254, 253, 254], dtype=int64))\n",
      "[-0.51490791 -0.05716125  0.16189154 ... -0.50088077 -0.92057635\n",
      " -0.92057635]\n"
     ]
    }
   ],
   "source": [
    "labels = np.load('data_netherlands/train/train_labels.npy')\n",
    "result = np.where(labels==3)\n",
    "print('Tuple of arrays returned : ', result)\n",
    "seismic = np.load('data_netherlands/train/train_seismic.npy')\n",
    "seismic_nl1 = seismic[result]\n",
    "print(seismic_nl1)"
   ]
  },
  {
   "cell_type": "code",
   "execution_count": 18,
   "metadata": {},
   "outputs": [
    {
     "name": "stdout",
     "output_type": "stream",
     "text": [
      "Tuple of arrays returned :  (array([    2,     2,     2, ..., 15219, 15219, 15219], dtype=int64), array([ 0,  0,  0, ..., 39, 39, 39], dtype=int64), array([ 0,  1,  2, ..., 37, 38, 39], dtype=int64))\n",
      "[-0.12941176 -0.18431373  0.96862745 ... -0.16078431  0.49803922\n",
      "  0.74117647]\n"
     ]
    }
   ],
   "source": [
    "labels = np.load('data_canada/train/labels.npy')\n",
    "result = np.where(labels==3)\n",
    "print('Tuple of arrays returned : ', result)\n",
    "seismic = np.load('data_canada/train/images.npy')\n",
    "seismic_canada1 = seismic[result]\n",
    "print(seismic_canada1)"
   ]
  },
  {
   "cell_type": "code",
   "execution_count": 19,
   "metadata": {},
   "outputs": [
    {
     "data": {
      "text/plain": [
       "[Text(0, 0.5, 'Frequency'), Text(0.5, 0, 'Netherlands Class 3')]"
      ]
     },
     "execution_count": 19,
     "metadata": {},
     "output_type": "execute_result"
    },
    {
     "data": {
      "image/png": "[encoded data removed]",
      "text/plain": [
       "<Figure size 432x288 with 1 Axes>"
      ]
     },
     "metadata": {
      "needs_background": "light"
     },
     "output_type": "display_data"
    }
   ],
   "source": [
    "ax = sns.distplot(seismic_nl1,\n",
    "                  bins=100,\n",
    "                  kde=True,\n",
    "                  color='skyblue',\n",
    "                  hist_kws={\"linewidth\": 15,'alpha':1})\n",
    "ax.set(xlabel='Netherlands Class 3', ylabel='Frequency')"
   ]
  },
  {
   "cell_type": "code",
   "execution_count": 24,
   "metadata": {},
   "outputs": [
    {
     "data": {
      "text/plain": [
       "[Text(0, 0.5, 'Frequency'), Text(0.5, 0, 'Canada Class 3')]"
      ]
     },
     "execution_count": 24,
     "metadata": {},
     "output_type": "execute_result"
    },
    {
     "data": {
      "image/png": "[encoded data removed]",
      "text/plain": [
       "<Figure size 432x288 with 1 Axes>"
      ]
     },
     "metadata": {
      "needs_background": "light"
     },
     "output_type": "display_data"
    }
   ],
   "source": [
    "ax = sns.distplot(seismic_canada1,\n",
    "                  bins=100,\n",
    "                  kde=True,\n",
    "                  color='skyblue',\n",
    "                  hist_kws={\"linewidth\": 15,'alpha':1})\n",
    "ax.set(xlabel='Canada Class 3', ylabel='Frequency')"
   ]
  },
  {
   "cell_type": "code",
   "execution_count": 22,
   "metadata": {},
   "outputs": [
    {
     "name": "stdout",
     "output_type": "stream",
     "text": [
      "Tuple of arrays returned :  (array([    9,     9,     9, ..., 32938, 32938, 32938], dtype=int64), array([ 0,  0,  0, ..., 39, 39, 39], dtype=int64), array([ 0,  1,  2, ..., 37, 38, 39], dtype=int64))\n",
      "[ 49 183  98 ... 250 241 255]\n"
     ]
    }
   ],
   "source": [
    "labels = np.load('data_canada_original/train/labels.npy')\n",
    "result = np.where(labels==3)\n",
    "print('Tuple of arrays returned : ', result)\n",
    "seismic = np.load('data_canada_original/train/images.npy')\n",
    "seismic_canada2 = seismic[result]\n",
    "print(seismic_canada2)"
   ]
  },
  {
   "cell_type": "code",
   "execution_count": 25,
   "metadata": {},
   "outputs": [
    {
     "data": {
      "text/plain": [
       "[Text(0, 0.5, 'Frequency'), Text(0.5, 0, 'Canada Original Class 3')]"
      ]
     },
     "execution_count": 25,
     "metadata": {},
     "output_type": "execute_result"
    },
    {
     "data": {
      "image/png": "[encoded data removed]",
      "text/plain": [
       "<Figure size 432x288 with 1 Axes>"
      ]
     },
     "metadata": {
      "needs_background": "light"
     },
     "output_type": "display_data"
    }
   ],
   "source": [
    "ax = sns.distplot(seismic_canada2,\n",
    "                  bins=100,\n",
    "                  kde=True,\n",
    "                  color='skyblue',\n",
    "                  hist_kws={\"linewidth\": 15,'alpha':1})\n",
    "ax.set(xlabel='Canada Original Class 3', ylabel='Frequency')"
   ]
  },
  {
   "cell_type": "code",
   "execution_count": 43,
   "metadata": {},
   "outputs": [
    {
     "name": "stdout",
     "output_type": "stream",
     "text": [
      "[ 0.70196078  0.65490196  0.61568627 ... -0.00392157  0.01960784\n",
      " -0.04313725]\n",
      "[2 2 2 ... 0 0 0]\n"
     ]
    }
   ],
   "source": [
    "labels = np.load('data_canada/train/labels.npy')\n",
    "seismic = np.load('data_canada/train/images.npy')\n",
    "result = np.where(seismic>=-0.999)\n",
    "seismic_canada1 = seismic[result]\n",
    "result1 = np.where(seismic_canada1<=0.999)\n",
    "seismic_canada5 = seismic_canada1[result1]\n",
    "labels1= labels[result]\n",
    "labels2 = labels1[result1]\n",
    "print(seismic_canada5)\n",
    "print(labels2)"
   ]
  },
  {
   "cell_type": "code",
   "execution_count": 44,
   "metadata": {},
   "outputs": [],
   "source": [
    "lbl= np.where(labels2==2)\n",
    "seismic_canada6 = seismic_canada5[lbl]"
   ]
  },
  {
   "cell_type": "code",
   "execution_count": 45,
   "metadata": {},
   "outputs": [
    {
     "data": {
      "text/plain": [
       "[Text(0, 0.5, 'Frequency'), Text(0.5, 0, 'Canada Class 3')]"
      ]
     },
     "execution_count": 45,
     "metadata": {},
     "output_type": "execute_result"
    },
    {
     "data": {
      "image/png": "[encoded data removed]",
      "text/plain": [
       "<Figure size 432x288 with 1 Axes>"
      ]
     },
     "metadata": {
      "needs_background": "light"
     },
     "output_type": "display_data"
    }
   ],
   "source": [
    "ax = sns.distplot(seismic_canada6,\n",
    "                  bins=100,\n",
    "                  kde=True,\n",
    "                  color='skyblue',\n",
    "                  hist_kws={\"linewidth\": 15,'alpha':1})\n",
    "ax.set(xlabel='Canada Class 3', ylabel='Frequency')"
   ]
  },
  {
   "cell_type": "code",
   "execution_count": 54,
   "metadata": {},
   "outputs": [
    {
     "data": {
      "text/plain": [
       "(4760778,)"
      ]
     },
     "execution_count": 54,
     "metadata": {},
     "output_type": "execute_result"
    }
   ],
   "source": [
    "np.squeeze(seismic_nl1).shape"
   ]
  },
  {
   "cell_type": "code",
   "execution_count": 58,
   "metadata": {},
   "outputs": [
    {
     "name": "stdout",
     "output_type": "stream",
     "text": [
      "[[1.         0.02038734]\n",
      " [0.02038734 1.        ]]\n"
     ]
    }
   ],
   "source": [
    "r = np.corrcoef(np.squeeze(seismic_canada1)[1:20000], np.squeeze(seismic_nl1)[1:20000])\n",
    "print(r)"
   ]
  },
  {
   "cell_type": "code",
   "execution_count": 62,
   "metadata": {},
   "outputs": [
    {
     "name": "stdout",
     "output_type": "stream",
     "text": [
      "F_onewayResult(statistic=2366.7865847609105, pvalue=0.0)\n",
      "MannwhitneyuResult(statistic=246536146.0, pvalue=0.0)\n"
     ]
    }
   ],
   "source": [
    "import scipy.stats as stats\n",
    "r = stats.f_oneway(np.squeeze(seismic_canada1)[1:25000], np.squeeze(seismic_nl1)[1:25000])\n",
    "print(r)\n",
    "r = stats.mannwhitneyu(np.squeeze(seismic_canada1)[1:25000], np.squeeze(seismic_nl1)[1:25000])\n",
    "print(r)"
   ]
  },
  {
   "cell_type": "code",
   "execution_count": null,
   "metadata": {},
   "outputs": [],
   "source": []
  }
 ],
 "metadata": {
  "kernelspec": {
   "display_name": "Python 3",
   "language": "python",
   "name": "python3"
  },
  "language_info": {
   "codemirror_mode": {
    "name": "ipython",
    "version": 3
   },
   "file_extension": ".py",
   "mimetype": "text/x-python",
   "name": "python",
   "nbconvert_exporter": "python",
   "pygments_lexer": "ipython3",
   "version": "3.7.6"
  }
 },
 "nbformat": 4,
 "nbformat_minor": 4
}
